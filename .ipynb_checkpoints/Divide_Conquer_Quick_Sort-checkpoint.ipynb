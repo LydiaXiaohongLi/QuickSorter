{
 "cells": [
  {
   "cell_type": "code",
   "execution_count": 1,
   "metadata": {},
   "outputs": [],
   "source": [
    "import math\n",
    "import copy\n",
    "content_list = []\n",
    "with open('Data\\QuickSort.txt') as file:\n",
    "    for line in file:\n",
    "        content_list.append(int(line.replace('\\n','')))"
   ]
  },
  {
   "cell_type": "code",
   "execution_count": 2,
   "metadata": {},
   "outputs": [],
   "source": [
    "class QuickSorter(object):\n",
    "\n",
    "    def __init__(self, data_array):\n",
    "        self.data_array = copy.deepcopy(data_array)\n",
    "\n",
    "    def quick_sort(self):\n",
    "        def sort(start, end):\n",
    "            #Base case, for only 1 data in current parition \n",
    "            if start==end:\n",
    "                return\n",
    "            elif start > end:\n",
    "                return\n",
    "            #If more than 1 data in current partition\n",
    "            #Step1: get the pivot location & partition the array based on pivot\n",
    "            m = pivot_sort(start, end)\n",
    "            #Step2: sort the left and right part of the array as per pivot\n",
    "            sort(start, m-1)\n",
    "            sort(m+1, end)\n",
    "            return\n",
    "\n",
    "        def pivot_sort(start, end):\n",
    "            #choose the pivot location as the median of first/last/middle number of the current partition\n",
    "            loc=start\n",
    "            candidate1 = self.data_array[start]\n",
    "            candidate2 = self.data_array[end]\n",
    "            candidate3 = self.data_array[start+math.floor((end-start)/2)]\n",
    "            if candidate1>= candidate2:\n",
    "                if candidate3 >= candidate1:\n",
    "                    pivot=candidate1\n",
    "                    pivot_loc=start\n",
    "                elif candidate3>=candidate2:\n",
    "                    pivot=candidate3\n",
    "                    pivot_loc=start+math.floor((end-start)/2)\n",
    "                else:\n",
    "                    pivot=candidate2\n",
    "                    pivot_loc=end\n",
    "            else:\n",
    "                if candidate3 >= candidate2:\n",
    "                    pivot=candidate2\n",
    "                    pivot_loc=end\n",
    "                elif candidate3>=candidate1:\n",
    "                    pivot=candidate3\n",
    "                    pivot_loc=start+math.floor((end-start)/2)\n",
    "                else:\n",
    "                    pivot=candidate1\n",
    "                    pivot_loc=start \n",
    "            #Step0, if not using the first element as pivot, exchange the last element with first element first\n",
    "            self.data_array[pivot_loc] = self.data_array[start]\n",
    "            self.data_array[start] = pivot\n",
    "            #Step1, For all numbers in current partition, update the original data array (global variable) such that\n",
    "            #1. all numbers less than pivot, put in just right to pivot\n",
    "            #2. all numbers greater than pivot, put in just right to all numbers less thn pivot\n",
    "            for i in range ( end-start ):\n",
    "                if pivot > self.data_array[start+i+1]:\n",
    "                    if loc!=(start+i):\n",
    "                        tmp=self.data_array[loc+1]\n",
    "                        self.data_array[loc+1]=self.data_array[start+i+1]\n",
    "                        self.data_array[start+i+1]=tmp\n",
    "                    loc=loc+1\n",
    "            #Step2, the rightmost number that are less than pivot to the first number of the current partition\n",
    "            #Step3, put pivot to the correct location\n",
    "            self.data_array[start]=self.data_array[loc]\n",
    "            self.data_array[loc]=pivot\n",
    "            return loc\n",
    "        \n",
    "        start =0\n",
    "        end = len(self.data_array)-1\n",
    "        sort(start,end)\n",
    "        return"
   ]
  },
  {
   "cell_type": "code",
   "execution_count": 3,
   "metadata": {},
   "outputs": [],
   "source": [
    "qs=QuickSorter(content_list)\n",
    "qs.quick_sort()"
   ]
  },
  {
   "cell_type": "code",
   "execution_count": null,
   "metadata": {},
   "outputs": [],
   "source": []
  }
 ],
 "metadata": {
  "kernelspec": {
   "display_name": "Python 3",
   "language": "python",
   "name": "python3"
  },
  "language_info": {
   "codemirror_mode": {
    "name": "ipython",
    "version": 3
   },
   "file_extension": ".py",
   "mimetype": "text/x-python",
   "name": "python",
   "nbconvert_exporter": "python",
   "pygments_lexer": "ipython3",
   "version": "3.6.4"
  }
 },
 "nbformat": 4,
 "nbformat_minor": 2
}
